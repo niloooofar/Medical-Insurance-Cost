{
 "cells": [
  {
   "cell_type": "markdown",
   "metadata": {},
   "source": [
    "# U.S. Medical Insurance Costs"
   ]
  },
  {
   "cell_type": "code",
   "execution_count": null,
   "metadata": {},
   "outputs": [],
   "source": [
    "conda install seaborn"
   ]
  },
  {
   "cell_type": "code",
   "execution_count": 11,
   "metadata": {},
   "outputs": [
    {
     "ename": "ModuleNotFoundError",
     "evalue": "No module named 'seaborn'",
     "output_type": "error",
     "traceback": [
      "\u001b[1;31m---------------------------------------------------------------------------\u001b[0m",
      "\u001b[1;31mModuleNotFoundError\u001b[0m                       Traceback (most recent call last)",
      "\u001b[1;32m<ipython-input-11-f612ddf22924>\u001b[0m in \u001b[0;36m<module>\u001b[1;34m\u001b[0m\n\u001b[0;32m      3\u001b[0m \u001b[1;32mfrom\u001b[0m \u001b[0mscipy\u001b[0m\u001b[1;33m.\u001b[0m\u001b[0mstats\u001b[0m \u001b[1;32mimport\u001b[0m \u001b[0miqr\u001b[0m\u001b[1;33m\u001b[0m\u001b[1;33m\u001b[0m\u001b[0m\n\u001b[0;32m      4\u001b[0m \u001b[1;31m# from matplotlib import pyplotlib as plt\u001b[0m\u001b[1;33m\u001b[0m\u001b[1;33m\u001b[0m\u001b[1;33m\u001b[0m\u001b[0m\n\u001b[1;32m----> 5\u001b[1;33m \u001b[1;32mimport\u001b[0m \u001b[0mseaborn\u001b[0m \u001b[1;32mas\u001b[0m \u001b[0msns\u001b[0m\u001b[1;33m\u001b[0m\u001b[1;33m\u001b[0m\u001b[0m\n\u001b[0m\u001b[0;32m      6\u001b[0m \u001b[1;33m\u001b[0m\u001b[0m\n\u001b[0;32m      7\u001b[0m \u001b[0mdf\u001b[0m \u001b[1;33m=\u001b[0m \u001b[0mpd\u001b[0m\u001b[1;33m.\u001b[0m\u001b[0mread_csv\u001b[0m\u001b[1;33m(\u001b[0m\u001b[1;34m\"insurance.csv\"\u001b[0m\u001b[1;33m)\u001b[0m\u001b[1;33m\u001b[0m\u001b[1;33m\u001b[0m\u001b[0m\n",
      "\u001b[1;31mModuleNotFoundError\u001b[0m: No module named 'seaborn'"
     ]
    }
   ],
   "source": [
    "import pandas as pd\n",
    "import numpy as np\n",
    "from scipy.stats import iqr\n",
    "# from matplotlib import pyplotlib as plt\n",
    "# import seaborn as sns\n",
    "\n",
    "df = pd.read_csv(\"insurance.csv\")\n",
    "age_average = np.mean(df.age)\n",
    "age_std = np.std(df.age)\n",
    "print(\"average and std of ages of people in this survey: \" , age_average , age_std, \"\\n\")\n",
    "print(\"95% of people in this survey are between {0} and {1} years old: \"\\\n",
    "      .format( age_average - 2*age_std , age_average + 2*age_std) , \"\\n\")\n",
    "\n",
    "print(\"{0} people participated in this survey, which {1} number of them are female\\\n",
    "({2:.2f} percentage) and {3} of them are male ({4:.2f} percentage )\\\n",
    "\".format(len(df), len(df[df.sex == \"female\"]), 100 * len(df[df.sex == \"female\"])/len(df),\\\n",
    "         len(df[df.sex == \"male\"]), 100 * len(df[df.sex == \"male\"])/len(df) ), \"\\n\")\n",
    "\n",
    "\n",
    "print(\"The average age of each gender:\")\n",
    "print(df.groupby(\"sex\").age.mean(), \"\\n\")\n",
    "sns.barplot(df, x = \"sex\", y = df.groupby(\"sex\").age.mean() )\n",
    "sns.show()\n",
    "\n",
    "print(\"The number of smoker in each gender:\")\n",
    "print(df.groupby(\"sex\").smoker.apply(lambda x : sum(x == \"yes\")), \"\\n\")\n",
    "\n"
   ]
  },
  {
   "cell_type": "code",
   "execution_count": null,
   "metadata": {},
   "outputs": [],
   "source": []
  }
 ],
 "metadata": {
  "kernelspec": {
   "display_name": "Python 3",
   "language": "python",
   "name": "python3"
  },
  "language_info": {
   "codemirror_mode": {
    "name": "ipython",
    "version": 3
   },
   "file_extension": ".py",
   "mimetype": "text/x-python",
   "name": "python",
   "nbconvert_exporter": "python",
   "pygments_lexer": "ipython3",
   "version": "3.8.5"
  }
 },
 "nbformat": 4,
 "nbformat_minor": 4
}
